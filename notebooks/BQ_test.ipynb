{
 "cells": [
  {
   "attachments": {},
   "cell_type": "markdown",
   "metadata": {},
   "source": [
    "## Imports"
   ]
  },
  {
   "cell_type": "code",
   "execution_count": null,
   "metadata": {},
   "outputs": [],
   "source": [
    "from google.cloud import bigquery\n",
    "from google.oauth2 import service_account\n",
    "import yaml"
   ]
  },
  {
   "attachments": {},
   "cell_type": "markdown",
   "metadata": {},
   "source": [
    "## Loads config files"
   ]
  },
  {
   "cell_type": "code",
   "execution_count": null,
   "metadata": {},
   "outputs": [],
   "source": [
    "with open('../conf/base/parameters.yml') as f:\n",
    "    # use safe_load instead load\n",
    "    parameters = yaml.safe_load(f)\n",
    "\n",
    "with open('../conf/base/catalog.yml') as f:\n",
    "    # use safe_load instead load\n",
    "    catalog = yaml.safe_load(f)    "
   ]
  },
  {
   "attachments": {},
   "cell_type": "markdown",
   "metadata": {},
   "source": [
    "## Query using kedro catalog"
   ]
  },
  {
   "cell_type": "code",
   "execution_count": null,
   "metadata": {},
   "outputs": [],
   "source": [
    "from kedro.extras.datasets.pandas import GBQQueryDataSet\n",
    "\n",
    "bq_query_cat_entry = catalog['bq_test']\n",
    "sql = bq_query_cat_entry['sql']\n",
    "project_id = bq_query_cat_entry['project']\n",
    "\n",
    "data_set = GBQQueryDataSet(sql, project=project_id)\n",
    "sql_data = data_set.load()"
   ]
  },
  {
   "attachments": {},
   "cell_type": "markdown",
   "metadata": {},
   "source": [
    "## Query using bigquery API (useful for debugging of queries)"
   ]
  },
  {
   "cell_type": "code",
   "execution_count": null,
   "metadata": {},
   "outputs": [],
   "source": [
    "# loads BigQuery project parameters\n",
    "bq_query_cat_entry = catalog['bq_test']\n",
    "project_id = bq_query_cat_entry['project']\n",
    "\n",
    "# Construct a BigQuery client object.\n",
    "client = bigquery.Client(project=project_id)\n",
    "\n",
    "\n",
    "query = \"\"\" SELECT name, SUM(number) as total_people\n",
    "    FROM bigquery-public-data.usa_names.usa_1910_2013\n",
    "    WHERE state = 'TX'\n",
    "    GROUP BY name, state\n",
    "    ORDER BY total_people DESC\n",
    "    LIMIT 20 \"\"\"\n",
    "query_job = client.query(query)  # Make an API request.\n",
    "\n",
    "print(\"The query data:\")\n",
    "for row in query_job:\n",
    "    # Row values can be accessed by field name or index.\n",
    "    print(\"name={}, count={}\".format(row[0], row[\"total_people\"]))"
   ]
  }
 ],
 "metadata": {
  "kernelspec": {
   "display_name": "species",
   "language": "python",
   "name": "python3"
  },
  "language_info": {
   "codemirror_mode": {
    "name": "ipython",
    "version": 3
   },
   "file_extension": ".py",
   "mimetype": "text/x-python",
   "name": "python",
   "nbconvert_exporter": "python",
   "pygments_lexer": "ipython3",
   "version": "3.10.6"
  },
  "orig_nbformat": 4
 },
 "nbformat": 4,
 "nbformat_minor": 2
}
