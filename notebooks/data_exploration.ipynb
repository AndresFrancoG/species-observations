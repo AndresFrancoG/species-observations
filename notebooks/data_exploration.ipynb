{
 "cells": [
  {
   "attachments": {},
   "cell_type": "markdown",
   "metadata": {},
   "source": [
    "## Imports"
   ]
  },
  {
   "cell_type": "code",
   "execution_count": null,
   "metadata": {},
   "outputs": [],
   "source": [
    "import yaml\n",
    "import pandas as pd\n",
    "from kedro_datasets.pandas import GBQTableDataSet\n",
    "from kedro.io import PartitionedDataSet"
   ]
  },
  {
   "attachments": {},
   "cell_type": "markdown",
   "metadata": {},
   "source": [
    "## Loads kedro yml data"
   ]
  },
  {
   "cell_type": "code",
   "execution_count": null,
   "metadata": {},
   "outputs": [],
   "source": [
    "with open('../conf/base/catalog.yml') as f:\n",
    "    # use safe_load instead load\n",
    "    catalog = yaml.safe_load(f)"
   ]
  },
  {
   "attachments": {},
   "cell_type": "markdown",
   "metadata": {},
   "source": [
    "## Query using bigquery API for query debugging"
   ]
  },
  {
   "cell_type": "code",
   "execution_count": null,
   "metadata": {},
   "outputs": [],
   "source": [
    "# bq_query_cat_entry = catalog['bq_test']\n",
    "# project_id = bq_query_cat_entry['project']\n",
    "\n",
    "# Recovers contents of ARRAYS nested inside STRUCTS\n",
    "# sql = \"\"\"SELECT element.array_element\n",
    "#     FROM bigquery-public-data.gbif.occurrences,\n",
    "#     UNNEST(issue.array) AS element\n",
    "#     LIMIT 20\"\"\"\n",
    "\n",
    "# Shows the distinct values of the issue column, which is an ARRAY nested inside a STRUCT\n",
    "# sql = \"\"\"SELECT distinct element.array_element\n",
    "#     FROM bigquery-public-data.gbif.occurrences,\n",
    "#     UNNEST(issue.array) AS element\"\"\"\n",
    "\n",
    "# Counts the number of observations per species and orders it from high to low\n",
    "# sql = \"\"\" SELECT species,\n",
    "#   count(species) as cnt\n",
    "#   FROM bigquery-public-data.gbif.occurrences\n",
    "#   group by species\n",
    "#   order by cnt desc\"\"\"\n",
    "\n",
    "# Counts the number of observations per species and orders it from high to low\n",
    "# sql = \"\"\" SELECT species,\n",
    "#   count(species) as cnt\n",
    "#   FROM bigquery-public-data.gbif.occurrences\n",
    "#   group by species\n",
    "#   order by cnt desc\"\"\"\n",
    "\n",
    "# Gets top 20 rows of all data\n",
    "# sql = \"\"\" SELECT gbifid\n",
    "#     ,datasetkey\n",
    "#     ,occurrenceid\n",
    "#     ,kingdom\n",
    "#     ,phylum\n",
    "#     ,class\n",
    "#     ,`order`\n",
    "#     ,family\n",
    "#     ,genus\n",
    "#     ,species\n",
    "#     ,infraspecificepithet\n",
    "#     ,taxonrank\n",
    "#     ,scientificname\n",
    "#     ,verbatimscientificname\n",
    "#     ,verbatimscientificnameauthorship\n",
    "#     ,countrycode\n",
    "#     ,locality\n",
    "#     ,stateprovince\n",
    "#     ,occurrencestatus\n",
    "#     ,individualcount\n",
    "#     ,publishingorgkey\n",
    "#     ,decimallatitude\n",
    "#     ,decimallongitude\n",
    "#     ,coordinateuncertaintyinmeters\n",
    "#     ,coordinateprecision\n",
    "#     ,elevation\n",
    "#     ,elevationaccuracy\n",
    "#     ,depth\n",
    "#     ,depthaccuracy\n",
    "#     ,eventdate\n",
    "#     ,day\n",
    "#     ,month\n",
    "#     ,year\n",
    "#     ,taxonkey\n",
    "#     ,specieskey\n",
    "#     ,basisofrecord\n",
    "#     ,institutioncode\n",
    "#     ,collectioncode\n",
    "#     ,catalognumber\n",
    "#     ,recordnumber\n",
    "#     ,identifiedby\n",
    "#     ,dateidentified\n",
    "#     ,license\n",
    "#     ,rightsholder\n",
    "#     ,recordedby\n",
    "#     ,typestatus\n",
    "#     ,establishmentmeans\n",
    "#     ,lastinterpreted\n",
    "#     ,mediatype\n",
    "#     ,issue\n",
    "# FROM bigquery-public-data.gbif.occurrences\n",
    "# LIMIT 20 \"\"\"\n",
    "\n",
    "# \n",
    "# sql = \"\"\"SELECT gbifid\n",
    "#     ,kingdom\n",
    "#     ,phylum\n",
    "#     ,class\n",
    "#     ,`order`\n",
    "#     ,family\n",
    "#     ,genus\n",
    "#     ,species\n",
    "#     ,countrycode\n",
    "#     ,occurrencestatus\n",
    "#     ,individualcount\n",
    "#     ,decimallatitude\n",
    "#     ,decimallongitude\n",
    "#     ,eventdate\n",
    "#     ,day\n",
    "#     ,month\n",
    "#     ,year\n",
    "#     ,basisofrecord \n",
    "#     ,element.array_element as issue\n",
    "#     FROM bigquery-public-data.gbif.occurrences\n",
    "#     CROSS JOIN UNNEST(issue.array) AS element\n",
    "#     WHERE species = 'Anas platyrhynchos' AND eventdate > '2020-01-01'\n",
    "#     \"\"\"\n",
    "\n",
    "# data_set = GBQQueryDataSet(sql, project=project_id)\n",
    "# df = data_set.load()"
   ]
  },
  {
   "attachments": {},
   "cell_type": "markdown",
   "metadata": {},
   "source": [
    "## Loads csv with data downladed from bigquery"
   ]
  },
  {
   "cell_type": "code",
   "execution_count": null,
   "metadata": {},
   "outputs": [],
   "source": [
    "catalog_entry = 'species_data'\n",
    "path = '..//' + catalog[catalog_entry]['path']\n",
    "dataset = catalog[catalog_entry]['dataset']\n",
    "\n",
    "data_set = PartitionedDataSet(\n",
    "       path=path,\n",
    "       dataset=dataset,\n",
    "   )\n",
    "\n",
    "print(dataset)"
   ]
  },
  {
   "cell_type": "code",
   "execution_count": null,
   "metadata": {},
   "outputs": [],
   "source": [
    "loaded = data_set.load()\n",
    "\n",
    "combine_all = pd.DataFrame()\n",
    "for partition_id, partition_load_func in loaded.items():\n",
    "       partition_data = partition_load_func()\n",
    "       combine_all = pd.concat(\n",
    "           [combine_all, partition_data], ignore_index=True, sort=True\n",
    "       )"
   ]
  },
  {
   "cell_type": "code",
   "execution_count": null,
   "metadata": {},
   "outputs": [],
   "source": [
    "combine_all.info()"
   ]
  }
 ],
 "metadata": {
  "kernelspec": {
   "display_name": "species",
   "language": "python",
   "name": "python3"
  },
  "language_info": {
   "codemirror_mode": {
    "name": "ipython",
    "version": 3
   },
   "file_extension": ".py",
   "mimetype": "text/x-python",
   "name": "python",
   "nbconvert_exporter": "python",
   "pygments_lexer": "ipython3",
   "version": "3.10.6"
  },
  "orig_nbformat": 4
 },
 "nbformat": 4,
 "nbformat_minor": 2
}
