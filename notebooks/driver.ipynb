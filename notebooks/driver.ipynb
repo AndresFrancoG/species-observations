{
 "cells": [
  {
   "cell_type": "code",
   "execution_count": null,
   "metadata": {},
   "outputs": [],
   "source": [
    "import papermill as pm\n",
    "import glob\n",
    "import os\n",
    "\n",
    "folder_path = '.'\n",
    "notebook_files = glob.glob(f'{folder_path}/**/*.ipynb', recursive=True)\n",
    "nb_list = [x[2:] for x in notebook_files if 'ct_' not in x and x!='./driver.ipynb']\n",
    "\n",
    "\n",
    "params = {'kedro_env': 'test_cloud'}\n",
    "for nb_path in nb_list:\n",
    "    dirname, basename = os.path.split(nb_path)\n",
    "    new_basename = 'ct_' + basename\n",
    "    new_path = os.path.join(dirname, new_basename)    \n",
    "    nb_output = pm.execute_notebook(nb_path, new_path, parameters = params, kernel_name='python3', prepare_only=True)"
   ]
  },
  {
   "cell_type": "code",
   "execution_count": null,
   "metadata": {},
   "outputs": [],
   "source": []
  }
 ],
 "metadata": {
  "kernelspec": {
   "display_name": ".venv",
   "language": "python",
   "name": "python3"
  },
  "language_info": {
   "codemirror_mode": {
    "name": "ipython",
    "version": 3
   },
   "file_extension": ".py",
   "mimetype": "text/x-python",
   "name": "python",
   "nbconvert_exporter": "python",
   "pygments_lexer": "ipython3",
   "version": "3.10.6"
  }
 },
 "nbformat": 4,
 "nbformat_minor": 2
}
